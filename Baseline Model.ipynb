{
 "cells": [
  {
   "cell_type": "markdown",
   "metadata": {},
   "source": [
    "# CS5304 Final Project\n",
    "## Baseline Model\n",
    "### teammember: Shang Zhou - sz536, Zongcheng Yang - zy338"
   ]
  },
  {
   "cell_type": "markdown",
   "metadata": {},
   "source": [
    "## Initialization"
   ]
  },
  {
   "cell_type": "code",
   "execution_count": 3,
   "metadata": {
    "collapsed": true
   },
   "outputs": [],
   "source": [
    "import numpy as np # linear algebra\n",
    "import pandas as pd # data processing, CSV file I/O (e.g. pd.read_csv)\n",
    "from scipy.misc import imread\n",
    "import matplotlib.pyplot as plt\n",
    "import seaborn as sns\n",
    "import os\n",
    "%matplotlib inline"
   ]
  },
  {
   "cell_type": "markdown",
   "metadata": {},
   "source": [
    "directory"
   ]
  },
  {
   "cell_type": "code",
   "execution_count": 4,
   "metadata": {},
   "outputs": [
    {
     "name": "stdout",
     "output_type": "stream",
     "text": [
      "\u001b[34mALB\u001b[m\u001b[m/   \u001b[34mBET\u001b[m\u001b[m/   \u001b[34mDOL\u001b[m\u001b[m/   \u001b[34mLAG\u001b[m\u001b[m/   \u001b[34mNoF\u001b[m\u001b[m/   \u001b[34mOTHER\u001b[m\u001b[m/ \u001b[34mSHARK\u001b[m\u001b[m/ \u001b[34mYFT\u001b[m\u001b[m/\r\n"
     ]
    }
   ],
   "source": [
    "ls data/train/"
   ]
  },
  {
   "cell_type": "markdown",
   "metadata": {},
   "source": [
    "train image number"
   ]
  },
  {
   "cell_type": "code",
   "execution_count": 5,
   "metadata": {},
   "outputs": [
    {
     "name": "stdout",
     "output_type": "stream",
     "text": [
      "Category    N           \n",
      "NoF         465         \n",
      "OTHER       299         \n",
      "ALB         1719        \n",
      "DOL         117         \n",
      "BET         200         \n",
      "LAG         67          \n",
      "YFT         734         \n",
      "SHARK       176         \n"
     ]
    }
   ],
   "source": [
    "train_dir = 'data/train/'\n",
    "print('{:<12}{:<12}'.format(\"Category\", \"N\"))\n",
    "for category in os.listdir(train_dir):\n",
    "    if category == '.DS_Store':\n",
    "        continue\n",
    "    print('{:<12}{:<12}'.format(category, sum(1 for file in os.listdir(train_dir + category))))"
   ]
  },
  {
   "cell_type": "markdown",
   "metadata": {},
   "source": [
    "test image number"
   ]
  },
  {
   "cell_type": "code",
   "execution_count": 6,
   "metadata": {},
   "outputs": [
    {
     "name": "stdout",
     "output_type": "stream",
     "text": [
      "Test        N           \n",
      "test_stg1   1000        \n",
      "test_stg2   12153       \n"
     ]
    }
   ],
   "source": [
    "print('{:<12}{:<12}'.format(\"Test\", \"N\"))\n",
    "print('{:<12}{:<12}'.format('test_stg1', sum(1 for file in os.listdir('data/test_stg1'))))\n",
    "print('{:<12}{:<12}'.format('test_stg2', sum(1 for file in os.listdir('data/test_stg2'))))"
   ]
  },
  {
   "cell_type": "markdown",
   "metadata": {},
   "source": [
    "train image size"
   ]
  },
  {
   "cell_type": "code",
   "execution_count": 7,
   "metadata": {
    "collapsed": true
   },
   "outputs": [],
   "source": [
    "different_file_sizes = {}\n",
    "for category in os.listdir(train_dir):\n",
    "    if category == '.DS_Store':\n",
    "        continue\n",
    "    for img in os.listdir(train_dir + category):\n",
    "        im_array = imread(train_dir + category + \"/\" + img)\n",
    "        size = \"_\".join(map(str,list(im_array.shape)))\n",
    "        different_file_sizes[size] = different_file_sizes.get(size,0) + 1"
   ]
  },
  {
   "cell_type": "code",
   "execution_count": 8,
   "metadata": {},
   "outputs": [
    {
     "name": "stderr",
     "output_type": "stream",
     "text": [
      "/Users/zww036/anaconda3/lib/python3.6/site-packages/seaborn/categorical.py:1460: FutureWarning: remove_na is deprecated and is a private function. Do not use.\n",
      "  stat_data = remove_na(group_data)\n"
     ]
    },
    {
     "data": {
      "image/png": "[encoded data removed]",
      "text/plain": [
       "<matplotlib.figure.Figure at 0x1a0d043588>"
      ]
     },
     "metadata": {},
     "output_type": "display_data"
    }
   ],
   "source": [
    "plt.figure(figsize=(12,4))\n",
    "sns.barplot(list(different_file_sizes.keys()), list(different_file_sizes.values()), alpha=0.8)\n",
    "plt.xlabel('Image size', fontsize=12)\n",
    "plt.ylabel('Number of Images', fontsize=12)\n",
    "plt.title(\"Image size present in train dataset\")\n",
    "plt.xticks(rotation='vertical')\n",
    "plt.show()"
   ]
  },
  {
   "cell_type": "markdown",
   "metadata": {},
   "source": [
    "## Baseline Model"
   ]
  },
  {
   "cell_type": "code",
   "execution_count": 9,
   "metadata": {},
   "outputs": [
    {
     "name": "stderr",
     "output_type": "stream",
     "text": [
      "Using TensorFlow backend.\n"
     ]
    }
   ],
   "source": [
    "import numpy as np # linear algebra\n",
    "import pandas as pd # data processing, CSV file I/O (e.g. pd.read_csv)\n",
    "\n",
    "# imports needed for CNN\n",
    "import csv\n",
    "import cv2\n",
    "import os, glob\n",
    "import pandas as pd\n",
    "import numpy as np\n",
    "import sklearn\n",
    "from sklearn.model_selection import train_test_split\n",
    "import time\n",
    "from keras.datasets import cifar10\n",
    "from keras.models import Sequential\n",
    "from keras.layers import Dense\n",
    "from keras.layers import Dropout\n",
    "from keras.layers import Flatten\n",
    "from keras.constraints import maxnorm\n",
    "from keras.optimizers import SGD\n",
    "from keras.layers.convolutional import Convolution2D\n",
    "from keras.layers.convolutional import MaxPooling2D\n",
    "from keras.utils import np_utils\n",
    "from matplotlib import pyplot as plt\n",
    "from os import listdir\n",
    "from os.path import isfile, join"
   ]
  },
  {
   "cell_type": "markdown",
   "metadata": {},
   "source": [
    "#### Preprocess"
   ]
  },
  {
   "cell_type": "code",
   "execution_count": 21,
   "metadata": {
    "collapsed": true
   },
   "outputs": [],
   "source": [
    "def load_data(data_dir):\n",
    "    \"\"\"\n",
    "    From: https://medium.com/@waleedka/traffic-sign-recognition-with-tensorflow-629dffc391a6#.v471kaepx\n",
    "    \"\"\"\n",
    "    # Get all subdirectories of data_dir. Each represents a label.\n",
    "    directories = [d for d in os.listdir(data_dir)\n",
    "                   if os.path.isdir(os.path.join(data_dir, d))]\n",
    "    # Loop through the label directories and collect the data in\n",
    "    # two lists, labels and images.\n",
    "    labels = []\n",
    "    images = []\n",
    "\n",
    "    category = 0\n",
    "    for d in directories:\n",
    "        label_dir = os.path.join(data_dir, d)\n",
    "        file_names = [os.path.join(label_dir, f)\n",
    "                      for f in os.listdir(label_dir)\n",
    "                      if f.endswith(\".jpg\")]\n",
    "        \n",
    "        # adding an early stop for sake of speed\n",
    "        stop = 0\n",
    "        for f in file_names:\n",
    "            img = cv2.imread(f)\n",
    "            imresize = cv2.resize(img, (200, 125))\n",
    "            '''\n",
    "            print(f)\n",
    "            plt.subplot(121)\n",
    "            plt.imshow(img)\n",
    "            plt.subplot(122)\n",
    "            plt.imshow(imresize)\n",
    "            plt.show()\n",
    "            '''\n",
    "            images.append(imresize)\n",
    "            labels.append(category)\n",
    "            \n",
    "            '''\n",
    "            # remove this to use full data set\n",
    "            if stop > 3:\n",
    "                break\n",
    "            stop += 1\n",
    "            # end early stop\n",
    "            '''\n",
    "        \n",
    "        print(category)\n",
    "        category += 1    \n",
    "    return images, labels"
   ]
  },
  {
   "cell_type": "code",
   "execution_count": 22,
   "metadata": {},
   "outputs": [
    {
     "name": "stdout",
     "output_type": "stream",
     "text": [
      "0\n",
      "1\n",
      "2\n",
      "3\n",
      "4\n",
      "5\n",
      "6\n",
      "7\n"
     ]
    }
   ],
   "source": [
    "train_dir = \"data/train\"\n",
    "images, labels = load_data(train_dir)"
   ]
  },
  {
   "cell_type": "code",
   "execution_count": 23,
   "metadata": {
    "collapsed": true
   },
   "outputs": [],
   "source": [
    "# confirm that we have the data\n",
    "#print(images[0:10])\n",
    "#print(labels)"
   ]
  },
  {
   "cell_type": "code",
   "execution_count": 24,
   "metadata": {
    "collapsed": true
   },
   "outputs": [],
   "source": [
    "def cross_validate(Xs, ys):\n",
    "    X_train, X_test, y_train, y_test = train_test_split(\n",
    "            Xs, ys, test_size=0.2, random_state=0)\n",
    "    return X_train, X_test, y_train, y_test"
   ]
  },
  {
   "cell_type": "code",
   "execution_count": 25,
   "metadata": {
    "collapsed": true
   },
   "outputs": [],
   "source": [
    "X_train, X_test, y_train, y_test = cross_validate(images, labels)"
   ]
  },
  {
   "cell_type": "code",
   "execution_count": 26,
   "metadata": {},
   "outputs": [
    {
     "name": "stdout",
     "output_type": "stream",
     "text": [
      "[1, 7, 3, 2, 2, 7, 2, 3, 2, 2]\n"
     ]
    }
   ],
   "source": [
    "# confirm we got our data\n",
    "print(y_test[0:10])"
   ]
  },
  {
   "cell_type": "code",
   "execution_count": 27,
   "metadata": {},
   "outputs": [
    {
     "name": "stdout",
     "output_type": "stream",
     "text": [
      "Data normalized and hot encoded.\n"
     ]
    }
   ],
   "source": [
    "# normalize inputs from 0-255 and 0.0-1.0\n",
    "X_train = np.array(X_train).astype('float32')\n",
    "X_test = np.array(X_test).astype('float32')\n",
    "X_train = X_train / 255.0\n",
    "X_test = X_test / 255.0\n",
    "\n",
    "# one hot encode outputs\n",
    "y_train = np.array(y_train)\n",
    "y_test = np.array(y_test)\n",
    "y_train = np_utils.to_categorical(y_train)\n",
    "y_test = np_utils.to_categorical(y_test)\n",
    "num_classes = y_test.shape[1]\n",
    "print(\"Data normalized and hot encoded.\")"
   ]
  },
  {
   "cell_type": "code",
   "execution_count": 28,
   "metadata": {},
   "outputs": [
    {
     "name": "stdout",
     "output_type": "stream",
     "text": [
      "_________________________________________________________________\n",
      "Layer (type)                 Output Shape              Param #   \n",
      "=================================================================\n",
      "conv2d_1 (Conv2D)            (None, 125, 200, 32)      896       \n",
      "_________________________________________________________________\n",
      "dropout_1 (Dropout)          (None, 125, 200, 32)      0         \n",
      "_________________________________________________________________\n",
      "conv2d_2 (Conv2D)            (None, 125, 200, 32)      9248      \n",
      "_________________________________________________________________\n",
      "max_pooling2d_1 (MaxPooling2 (None, 62, 100, 32)       0         \n",
      "_________________________________________________________________\n",
      "flatten_1 (Flatten)          (None, 198400)            0         \n",
      "_________________________________________________________________\n",
      "dense_1 (Dense)              (None, 512)               101581312 \n",
      "_________________________________________________________________\n",
      "dropout_2 (Dropout)          (None, 512)               0         \n",
      "_________________________________________________________________\n",
      "dense_2 (Dense)              (None, 8)                 4104      \n",
      "=================================================================\n",
      "Total params: 101,595,560\n",
      "Trainable params: 101,595,560\n",
      "Non-trainable params: 0\n",
      "_________________________________________________________________\n",
      "None\n",
      "CNN Model created.\n"
     ]
    },
    {
     "name": "stderr",
     "output_type": "stream",
     "text": [
      "/Users/zww036/anaconda3/lib/python3.6/site-packages/ipykernel_launcher.py:6: UserWarning: Update your `Conv2D` call to the Keras 2 API: `Conv2D(32, (3, 3), input_shape=(125, 200,..., activation=\"relu\", padding=\"same\", kernel_constraint=<keras.con...)`\n",
      "  \n",
      "/Users/zww036/anaconda3/lib/python3.6/site-packages/ipykernel_launcher.py:8: UserWarning: Update your `Conv2D` call to the Keras 2 API: `Conv2D(32, (3, 3), activation=\"relu\", padding=\"same\", kernel_constraint=<keras.con...)`\n",
      "  \n",
      "/Users/zww036/anaconda3/lib/python3.6/site-packages/ipykernel_launcher.py:11: UserWarning: Update your `Dense` call to the Keras 2 API: `Dense(512, activation=\"relu\", kernel_constraint=<keras.con...)`\n",
      "  # This is added back by InteractiveShellApp.init_path()\n"
     ]
    }
   ],
   "source": [
    "def createCNNModel(num_classes):\n",
    "    \"\"\" Adapted from: # http://machinelearningmastery.com/object-recognition-convolutional-neural-networks-keras-deep-learning-library/\n",
    "# \"\"\"\n",
    "    # Create the model\n",
    "    model = Sequential()\n",
    "    model.add(Convolution2D(32, 3, 3, input_shape=(125, 200, 3), border_mode='same', activation='relu', W_constraint=maxnorm(3)))\n",
    "    model.add(Dropout(0.2))\n",
    "    model.add(Convolution2D(32, 3, 3, activation='relu', border_mode='same', W_constraint=maxnorm(3)))\n",
    "    model.add(MaxPooling2D(pool_size=(2, 2)))\n",
    "    model.add(Flatten())\n",
    "    model.add(Dense(512, activation='relu', W_constraint=maxnorm(3)))\n",
    "    model.add(Dropout(0.5))\n",
    "    model.add(Dense(num_classes, activation='softmax'))\n",
    "    # Compile model\n",
    "    epochs = 8  # >>> should be 25+\n",
    "    lrate = 0.01\n",
    "    decay = lrate/epochs\n",
    "    sgd = SGD(lr=lrate, momentum=0.9, decay=decay, nesterov=False)\n",
    "    model.compile(loss='categorical_crossentropy', optimizer=sgd, metrics=['accuracy'])\n",
    "    print(model.summary())\n",
    "    return model, epochs\n",
    "\n",
    "# create our CNN model\n",
    "model, epochs = createCNNModel(num_classes)\n",
    "print(\"CNN Model created.\")"
   ]
  },
  {
   "cell_type": "code",
   "execution_count": 29,
   "metadata": {},
   "outputs": [
    {
     "name": "stdout",
     "output_type": "stream",
     "text": [
      "WARNING:tensorflow:Variable *= will be deprecated. Use variable.assign_mul if you want assignment to the variable value or 'x = x * y' if you want a new python Tensor object.\n"
     ]
    },
    {
     "name": "stderr",
     "output_type": "stream",
     "text": [
      "/Users/zww036/anaconda3/lib/python3.6/site-packages/keras/models.py:942: UserWarning: The `nb_epoch` argument in `fit` has been renamed `epochs`.\n",
      "  warnings.warn('The `nb_epoch` argument in `fit` '\n"
     ]
    },
    {
     "name": "stdout",
     "output_type": "stream",
     "text": [
      "Train on 3021 samples, validate on 756 samples\n",
      "Epoch 1/8\n",
      "3021/3021 [==============================] - 185s 61ms/step - loss: 1.6926 - acc: 0.4373 - val_loss: 1.4140 - val_acc: 0.5093\n",
      "Epoch 2/8\n",
      "3021/3021 [==============================] - 182s 60ms/step - loss: 1.2000 - acc: 0.5981 - val_loss: 1.0518 - val_acc: 0.7050\n",
      "Epoch 3/8\n",
      "3021/3021 [==============================] - 183s 61ms/step - loss: 0.8360 - acc: 0.7193 - val_loss: 0.6724 - val_acc: 0.8108\n",
      "Epoch 4/8\n",
      "3021/3021 [==============================] - 179s 59ms/step - loss: 0.5707 - acc: 0.8126 - val_loss: 0.5402 - val_acc: 0.8466\n",
      "Epoch 5/8\n",
      "3021/3021 [==============================] - 182s 60ms/step - loss: 0.4712 - acc: 0.8500 - val_loss: 0.4402 - val_acc: 0.8836\n",
      "Epoch 6/8\n",
      "3021/3021 [==============================] - 181s 60ms/step - loss: 0.3716 - acc: 0.8828 - val_loss: 0.3427 - val_acc: 0.8929\n",
      "Epoch 7/8\n",
      "3021/3021 [==============================] - 176s 58ms/step - loss: 0.2830 - acc: 0.9163 - val_loss: 0.3134 - val_acc: 0.9114\n",
      "Epoch 8/8\n",
      "3021/3021 [==============================] - 173s 57ms/step - loss: 0.2251 - acc: 0.9315 - val_loss: 0.2341 - val_acc: 0.9325\n",
      "Accuracy: 93.25%\n",
      "done\n"
     ]
    }
   ],
   "source": [
    "# fit and run our model\n",
    "seed = 5304\n",
    "np.random.seed(seed)\n",
    "model.fit(X_train, y_train, validation_data=(X_test, y_test), nb_epoch=epochs, batch_size=64)\n",
    "# Final evaluation of the model\n",
    "scores = model.evaluate(X_test, y_test, verbose=0)\n",
    "print(\"Accuracy: %.2f%%\" % (scores[1]*100))\n",
    "\n",
    "print(\"done\")"
   ]
  },
  {
   "cell_type": "code",
   "execution_count": 170,
   "metadata": {},
   "outputs": [
    {
     "data": {
      "text/plain": [
       "'\\n############## STOP EARLY TO SAVE TIME #################\\nif i > 10:\\n    break\\ni += 1\\n#####  REMOVE TO RUN AGAINST FULL TEST SET ########\\n'"
      ]
     },
     "execution_count": 170,
     "metadata": {},
     "output_type": "execute_result"
    }
   ],
   "source": [
    "def validation(stage):\n",
    "    prediction_output_list = []  # list of lists, containing logistic regression for each file\n",
    "    fnames = [f for f in listdir(\"data/test_stg%s/\" %stage) if isfile(join(\"data/test_stg%s/\" %stage, f))]\n",
    "\n",
    "    # early stoppage...\n",
    "    # only do 10\n",
    "    i = 0\n",
    "    for f in fnames:\n",
    "        file_name = (\"data/test_stg%s/\" %stage) + f\n",
    "        img = cv2.imread(file_name)  \n",
    "        imresize = cv2.resize(img, (200, 125))  # resize so we're always comparing same-sized images\n",
    "        imlist = np.array([imresize])\n",
    "        #print(\"---Evaluating File at: \" + file_name)\n",
    "        #print(\"Neural Net Prediction:\")\n",
    "        cnn_prediction = model.predict_proba(imlist)\n",
    "        #print(cnn_prediction)\n",
    "\n",
    "        # format list for csv output\n",
    "        csv_output_list = []\n",
    "        if stage == \"1\":\n",
    "            csv_output_list.append(f)\n",
    "        else:\n",
    "            csv_output_list.append('test_stg2/' + f)\n",
    "        for elem in cnn_prediction:\n",
    "            for value in elem:\n",
    "                csv_output_list.append(value)\n",
    "\n",
    "        # append filename to make sure we have right format to write to csv\n",
    "        #print(\"CSV Output List Formatted:\")\n",
    "        #print(csv_output_list)\n",
    "        # and append this file to the output_list (of lists)\n",
    "        prediction_output_list.append(csv_output_list)\n",
    "        \n",
    "        i += 1\n",
    "        if i % 100 == 0:\n",
    "            print(i//100)\n",
    "    \n",
    "    return prediction_output_list\n",
    "    \n",
    "'''\n",
    "############## STOP EARLY TO SAVE TIME #################\n",
    "if i > 10:\n",
    "    break\n",
    "i += 1\n",
    "#####  REMOVE TO RUN AGAINST FULL TEST SET ########\n",
    "'''"
   ]
  },
  {
   "cell_type": "code",
   "execution_count": 171,
   "metadata": {
    "scrolled": true
   },
   "outputs": [
    {
     "name": "stdout",
     "output_type": "stream",
     "text": [
      "1\n",
      "2\n",
      "3\n",
      "4\n",
      "5\n",
      "6\n",
      "7\n",
      "8\n",
      "9\n",
      "10\n",
      "1\n",
      "2\n",
      "3\n",
      "4\n",
      "5\n",
      "6\n",
      "7\n",
      "8\n",
      "9\n",
      "10\n",
      "11\n",
      "12\n",
      "13\n",
      "14\n",
      "15\n",
      "16\n",
      "17\n",
      "18\n",
      "19\n",
      "20\n",
      "21\n",
      "22\n",
      "23\n",
      "24\n",
      "25\n",
      "26\n",
      "27\n",
      "28\n",
      "29\n",
      "30\n",
      "31\n",
      "32\n",
      "33\n",
      "34\n",
      "35\n",
      "36\n",
      "37\n",
      "38\n",
      "39\n",
      "40\n",
      "41\n",
      "42\n",
      "43\n",
      "44\n",
      "45\n",
      "46\n",
      "47\n",
      "48\n",
      "49\n",
      "50\n",
      "51\n",
      "52\n",
      "53\n",
      "54\n",
      "55\n",
      "56\n",
      "57\n",
      "58\n",
      "59\n",
      "60\n",
      "61\n",
      "62\n",
      "63\n",
      "64\n",
      "65\n",
      "66\n",
      "67\n",
      "68\n",
      "69\n",
      "70\n",
      "71\n",
      "72\n",
      "73\n",
      "74\n",
      "75\n",
      "76\n",
      "77\n",
      "78\n",
      "79\n",
      "80\n",
      "81\n",
      "82\n",
      "83\n",
      "84\n",
      "85\n",
      "86\n",
      "87\n",
      "88\n",
      "89\n",
      "90\n",
      "91\n",
      "92\n",
      "93\n",
      "94\n",
      "95\n",
      "96\n",
      "97\n",
      "98\n",
      "99\n",
      "100\n",
      "101\n",
      "102\n",
      "103\n",
      "104\n",
      "105\n",
      "106\n",
      "107\n",
      "108\n",
      "109\n",
      "110\n",
      "111\n",
      "112\n",
      "113\n",
      "114\n",
      "115\n",
      "116\n",
      "117\n",
      "118\n",
      "119\n",
      "120\n",
      "121\n"
     ]
    }
   ],
   "source": [
    "list1 = validation(\"1\")\n",
    "list2 = validation(\"2\")\n",
    "prediction_output_list = list1 + list2"
   ]
  },
  {
   "cell_type": "code",
   "execution_count": 172,
   "metadata": {},
   "outputs": [
    {
     "name": "stdout",
     "output_type": "stream",
     "text": [
      "done\n"
     ]
    }
   ],
   "source": [
    "# Write to csv\n",
    "#  Commented out for Kaggle, but you can use this to write to a CSV on your own computer.\n",
    "try:\n",
    "    with open(\"cnn_predictions.csv\", \"w\") as f:\n",
    "        writer = csv.writer(f)\n",
    "        headers = ['image', 'ALB', 'BET', 'DOL', 'LAG', 'NoF', 'OTHER', 'SHARK', 'YFT']\n",
    "        writer.writerow(headers)\n",
    "        writer.writerows(prediction_output_list)\n",
    "finally:\n",
    "    f.close()\n",
    "\n",
    "print(\"done\")"
   ]
  },
  {
   "cell_type": "code",
   "execution_count": 149,
   "metadata": {},
   "outputs": [
    {
     "data": {
      "text/plain": [
       "(13153, 9)"
      ]
     },
     "execution_count": 149,
     "metadata": {},
     "output_type": "execute_result"
    }
   ],
   "source": [
    "import pandas as pd\n",
    "df = pd.read_csv('data/sample_submission_stg2.csv')\n",
    "df.shape"
   ]
  },
  {
   "cell_type": "code",
   "execution_count": 150,
   "metadata": {},
   "outputs": [
    {
     "data": {
      "text/html": [
       "<div>\n",
       "<style scoped>\n",
       "    .dataframe tbody tr th:only-of-type {\n",
       "        vertical-align: middle;\n",
       "    }\n",
       "\n",
       "    .dataframe tbody tr th {\n",
       "        vertical-align: top;\n",
       "    }\n",
       "\n",
       "    .dataframe thead th {\n",
       "        text-align: right;\n",
       "    }\n",
       "</style>\n",
       "<table border=\"1\" class=\"dataframe\">\n",
       "  <thead>\n",
       "    <tr style=\"text-align: right;\">\n",
       "      <th></th>\n",
       "      <th>image</th>\n",
       "      <th>ALB</th>\n",
       "      <th>BET</th>\n",
       "      <th>DOL</th>\n",
       "      <th>LAG</th>\n",
       "      <th>NoF</th>\n",
       "      <th>OTHER</th>\n",
       "      <th>SHARK</th>\n",
       "      <th>YFT</th>\n",
       "    </tr>\n",
       "  </thead>\n",
       "  <tbody>\n",
       "    <tr>\n",
       "      <th>0</th>\n",
       "      <td>img_00005.jpg</td>\n",
       "      <td>0.455003</td>\n",
       "      <td>0.052938</td>\n",
       "      <td>0.030969</td>\n",
       "      <td>0.017734</td>\n",
       "      <td>0.123081</td>\n",
       "      <td>0.079142</td>\n",
       "      <td>0.046585</td>\n",
       "      <td>0.194283</td>\n",
       "    </tr>\n",
       "    <tr>\n",
       "      <th>1</th>\n",
       "      <td>img_00007.jpg</td>\n",
       "      <td>0.455003</td>\n",
       "      <td>0.052938</td>\n",
       "      <td>0.030969</td>\n",
       "      <td>0.017734</td>\n",
       "      <td>0.123081</td>\n",
       "      <td>0.079142</td>\n",
       "      <td>0.046585</td>\n",
       "      <td>0.194283</td>\n",
       "    </tr>\n",
       "    <tr>\n",
       "      <th>2</th>\n",
       "      <td>img_00009.jpg</td>\n",
       "      <td>0.455003</td>\n",
       "      <td>0.052938</td>\n",
       "      <td>0.030969</td>\n",
       "      <td>0.017734</td>\n",
       "      <td>0.123081</td>\n",
       "      <td>0.079142</td>\n",
       "      <td>0.046585</td>\n",
       "      <td>0.194283</td>\n",
       "    </tr>\n",
       "    <tr>\n",
       "      <th>3</th>\n",
       "      <td>img_00018.jpg</td>\n",
       "      <td>0.455003</td>\n",
       "      <td>0.052938</td>\n",
       "      <td>0.030969</td>\n",
       "      <td>0.017734</td>\n",
       "      <td>0.123081</td>\n",
       "      <td>0.079142</td>\n",
       "      <td>0.046585</td>\n",
       "      <td>0.194283</td>\n",
       "    </tr>\n",
       "    <tr>\n",
       "      <th>4</th>\n",
       "      <td>img_00027.jpg</td>\n",
       "      <td>0.455003</td>\n",
       "      <td>0.052938</td>\n",
       "      <td>0.030969</td>\n",
       "      <td>0.017734</td>\n",
       "      <td>0.123081</td>\n",
       "      <td>0.079142</td>\n",
       "      <td>0.046585</td>\n",
       "      <td>0.194283</td>\n",
       "    </tr>\n",
       "  </tbody>\n",
       "</table>\n",
       "</div>"
      ],
      "text/plain": [
       "           image       ALB       BET       DOL       LAG       NoF     OTHER  \\\n",
       "0  img_00005.jpg  0.455003  0.052938  0.030969  0.017734  0.123081  0.079142   \n",
       "1  img_00007.jpg  0.455003  0.052938  0.030969  0.017734  0.123081  0.079142   \n",
       "2  img_00009.jpg  0.455003  0.052938  0.030969  0.017734  0.123081  0.079142   \n",
       "3  img_00018.jpg  0.455003  0.052938  0.030969  0.017734  0.123081  0.079142   \n",
       "4  img_00027.jpg  0.455003  0.052938  0.030969  0.017734  0.123081  0.079142   \n",
       "\n",
       "      SHARK       YFT  \n",
       "0  0.046585  0.194283  \n",
       "1  0.046585  0.194283  \n",
       "2  0.046585  0.194283  \n",
       "3  0.046585  0.194283  \n",
       "4  0.046585  0.194283  "
      ]
     },
     "execution_count": 150,
     "metadata": {},
     "output_type": "execute_result"
    }
   ],
   "source": [
    "df.head()"
   ]
  },
  {
   "cell_type": "code",
   "execution_count": null,
   "metadata": {
    "collapsed": true
   },
   "outputs": [],
   "source": []
  }
 ],
 "metadata": {
  "kernelspec": {
   "display_name": "Python 3",
   "language": "python",
   "name": "python3"
  },
  "language_info": {
   "codemirror_mode": {
    "name": "ipython",
    "version": 3
   },
   "file_extension": ".py",
   "mimetype": "text/x-python",
   "name": "python",
   "nbconvert_exporter": "python",
   "pygments_lexer": "ipython3",
   "version": "3.6.3"
  }
 },
 "nbformat": 4,
 "nbformat_minor": 2
}
